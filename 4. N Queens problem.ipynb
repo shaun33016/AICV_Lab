{
 "cells": [
  {
   "cell_type": "markdown",
   "id": "76df7db1",
   "metadata": {},
   "source": [
    "# 4. N Queens problem"
   ]
  },
  {
   "cell_type": "code",
   "execution_count": 2,
   "id": "1207a8d8",
   "metadata": {},
   "outputs": [
    {
     "name": "stdout",
     "output_type": "stream",
     "text": [
      "Enter the number of queens: 8\n",
      "Q . . . . . . . \n",
      ". . . . . . Q . \n",
      ". . . . Q . . . \n",
      ". . . . . . . Q \n",
      ". Q . . . . . . \n",
      ". . . Q . . . . \n",
      ". . . . . Q . . \n",
      ". . Q . . . . . \n"
     ]
    }
   ],
   "source": [
    "def is_valid(board, row, col):\n",
    "    for i in range(col):\n",
    "        if board[row][i] == 1:\n",
    "            return False\n",
    "\n",
    "    for i, j in zip(range(row, -1, -1), range(col, -1, -1)):\n",
    "        if board[i][j] == 1:\n",
    "            return False\n",
    "\n",
    "    for i, j in zip(range(row, len(board), 1), range(col, -1, -1)):\n",
    "        if board[i][j] == 1:\n",
    "            return False\n",
    "\n",
    "    return True\n",
    "\n",
    "def solve_n_queens(board, col):\n",
    "    if col >= len(board):\n",
    "        return True\n",
    "\n",
    "    for i in range(len(board)):\n",
    "        if is_valid(board, i, col):\n",
    "            board[i][col] = 1\n",
    "            if solve_n_queens(board, col + 1) == True:\n",
    "                return True\n",
    "            board[i][col] = 0\n",
    "    return False\n",
    "\n",
    "def print_solution(board):\n",
    "    for i in range(len(board)):\n",
    "        for j in range(len(board)):\n",
    "            if board[i][j] == 1:\n",
    "                print(\"Q\",end=\" \")\n",
    "            else:\n",
    "                print(\".\",end=\" \")\n",
    "        print()\n",
    "\n",
    "N = int(input(\"Enter the number of queens: \"))\n",
    "board = [[0]*N for _ in range(N)]\n",
    "\n",
    "if solve_n_queens(board, 0) == False:\n",
    "    print (\"Solution does not exist\")\n",
    "else:\n",
    "    print_solution(board)\n"
   ]
  },
  {
   "cell_type": "code",
   "execution_count": 1,
   "id": "12e728a9",
   "metadata": {},
   "outputs": [
    {
     "name": "stdout",
     "output_type": "stream",
     "text": [
      "Enter the number of queens\n",
      "8\n",
      "[1, 0, 0, 0, 0, 0, 0, 0]\n",
      "[0, 0, 0, 0, 1, 0, 0, 0]\n",
      "[0, 0, 0, 0, 0, 0, 0, 1]\n",
      "[0, 0, 0, 0, 0, 1, 0, 0]\n",
      "[0, 0, 1, 0, 0, 0, 0, 0]\n",
      "[0, 0, 0, 0, 0, 0, 1, 0]\n",
      "[0, 1, 0, 0, 0, 0, 0, 0]\n",
      "[0, 0, 0, 1, 0, 0, 0, 0]\n"
     ]
    }
   ],
   "source": [
    "# Taking number of queens as input from user\n",
    "print(\"Enter the number of queens\")\n",
    "N = int(input())\n",
    "\n",
    "# here we create a chessboard\n",
    "# NxN matrix with all elements set to 0\n",
    "board = [[0]*N for _ in range(N)]\n",
    "\n",
    "def attack(i, j):\n",
    "    # Checking vertically and horizontally\n",
    "    for k in range(0, N):\n",
    "        if board[i][k] == 1 or board[k][j] == 1:\n",
    "            return True\n",
    "    # checking diagonally\n",
    "    for k in range(0, N):\n",
    "        for l in range(0, N):\n",
    "            if (k + l == i + j) or (k - l == i - j):\n",
    "                if board[k][l] == 1:\n",
    "                    return True\n",
    "    return False\n",
    "\n",
    "def N_queens(n):\n",
    "    if n == 0:\n",
    "        return True\n",
    "    for i in range(0, N):\n",
    "        for j in range(0, N):\n",
    "            if not attack(i, j) and board[i][j] != 1:\n",
    "                board[i][j] = 1\n",
    "                if N_queens(n - 1):\n",
    "                    return True\n",
    "                board[i][j] = 0\n",
    "    return False\n",
    "N_queens(N)\n",
    "for i in board:\n",
    "        print(i)"
   ]
  },
  {
   "cell_type": "code",
   "execution_count": null,
   "id": "f944ba16",
   "metadata": {},
   "outputs": [],
   "source": []
  }
 ],
 "metadata": {
  "kernelspec": {
   "display_name": "Python 3 (ipykernel)",
   "language": "python",
   "name": "python3"
  },
  "language_info": {
   "codemirror_mode": {
    "name": "ipython",
    "version": 3
   },
   "file_extension": ".py",
   "mimetype": "text/x-python",
   "name": "python",
   "nbconvert_exporter": "python",
   "pygments_lexer": "ipython3",
   "version": "3.9.12"
  }
 },
 "nbformat": 4,
 "nbformat_minor": 5
}
