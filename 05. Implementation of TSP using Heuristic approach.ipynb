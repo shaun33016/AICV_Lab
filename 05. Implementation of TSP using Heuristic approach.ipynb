{
 "cells": [
  {
   "cell_type": "code",
   "execution_count": 4,
   "id": "d72b4601",
   "metadata": {},
   "outputs": [
    {
     "name": "stdout",
     "output_type": "stream",
     "text": [
      "Optimal Tour:  [0, 1, 2, 3, 4, 0]\n"
     ]
    }
   ],
   "source": [
    "# Define the Nearest Neighbour Algorithm\n",
    "import math\n",
    "def distance(point1, point2):\n",
    "    x1, y1 = point1\n",
    "    x2, y2 = point2\n",
    "    return math.sqrt((x1 - x2) ** 2 + (y1 - y2) ** 2)\n",
    "\n",
    "def nearest_neighbor(points):\n",
    "    n=len(points)\n",
    "    unvisited = set(range(n))\n",
    "    tour=[0] # Start from the first point\n",
    "    unvisited.remove(0)\n",
    "    \n",
    "    while unvisited:\n",
    "        current_point = tour[-1]\n",
    "        nearest_point = min(unvisited , key=lambda x: distance(points[current_point],points[x]))\n",
    "        tour.append(nearest_point)\n",
    "        unvisited.remove(nearest_point)\n",
    "        \n",
    "    # Complete the tour by returning to the starting point\n",
    "    tour.append(tour[0])\n",
    "    return tour\n",
    "\n",
    "if __name__ == \"__main__\":\n",
    "    # define the points as (x,y) coordinates\n",
    "    points = [(0,0),(1,2),(2,3),(3,4),(4,2)]\n",
    "    \n",
    "    # Find the tour using the Nearest Neighbor Algorithm\n",
    "    tour = nearest_neighbor(points)\n",
    "    \n",
    "    print(\"Optimal Tour: \",tour)\n",
    "        "
   ]
  },
  {
   "cell_type": "code",
   "execution_count": null,
   "id": "8345e4a5",
   "metadata": {},
   "outputs": [],
   "source": []
  }
 ],
 "metadata": {
  "kernelspec": {
   "display_name": "Python 3 (ipykernel)",
   "language": "python",
   "name": "python3"
  },
  "language_info": {
   "codemirror_mode": {
    "name": "ipython",
    "version": 3
   },
   "file_extension": ".py",
   "mimetype": "text/x-python",
   "name": "python",
   "nbconvert_exporter": "python",
   "pygments_lexer": "ipython3",
   "version": "3.9.12"
  }
 },
 "nbformat": 4,
 "nbformat_minor": 5
}
