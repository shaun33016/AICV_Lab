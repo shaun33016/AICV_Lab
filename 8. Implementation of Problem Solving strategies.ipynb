{
 "cells": [
  {
   "cell_type": "markdown",
   "id": "7dce8321",
   "metadata": {},
   "source": [
    "# 8. Implementation of Problem Solving strategies: either using Forward Chaining or Backward Chaining"
   ]
  },
  {
   "cell_type": "code",
   "execution_count": 8,
   "id": "7c737995",
   "metadata": {},
   "outputs": [
    {
     "name": "stdout",
     "output_type": "stream",
     "text": [
      "Derived Facts:  {'D', 'E', 'C', 'G', 'A'}\n"
     ]
    }
   ],
   "source": [
    "class Rule:\n",
    "    def __init__(self, antecedents, consequent):\n",
    "        self.antecedents = antecedents\n",
    "        self.consequent = consequent\n",
    "        \n",
    "class KnowledgeBase:\n",
    "    def __init__(self):\n",
    "        self.facts = set()\n",
    "        self.rules = []\n",
    "    \n",
    "    def add_rule(self, rule):\n",
    "        self.rules.append(rule)\n",
    "\n",
    "    def add_fact(self, fact):\n",
    "        self.facts.add(fact)\n",
    "    \n",
    "    def apply_forward_chaining(self):\n",
    "        new_facts_derived = True\n",
    "        while new_facts_derived:\n",
    "            new_facts_derived = False\n",
    "            for rule in self.rules:\n",
    "                if all(antecedent in self.facts for antecedent in rule.antecedents) and rule.consequent not in self.facts:\n",
    "                    self.facts.add(rule.consequent)\n",
    "                    new_facts_derived = True\n",
    "if __name__ == \"__main__\":\n",
    "    kb = KnowledgeBase()\n",
    "            # Define rules and facts\n",
    "    rule1 = Rule([\"A\", \"C\"], \"E\")\n",
    "    rule2 = Rule([\"A\", \"E\"], \"G\")\n",
    "    rule3 = Rule([\"B\"], \"E\")\n",
    "    rule4 = Rule([\"G\"], \"D\")\n",
    "    kb.add_rule(rule1)\n",
    "    kb.add_rule(rule2)\n",
    "    kb.add_rule(rule3)\n",
    "    kb.add_rule(rule4)\n",
    "    kb.add_fact(\"A\")\n",
    "    kb.add_fact(\"C\")\n",
    "            \n",
    "            # Apply forward chaining\n",
    "    kb.apply_forward_chaining()\n",
    "            \n",
    "            # Print the derived facts\n",
    "    print(\"Derived Facts: \", kb.facts)\n",
    "            "
   ]
  },
  {
   "cell_type": "code",
   "execution_count": 12,
   "id": "bb3e81d8",
   "metadata": {},
   "outputs": [
    {
     "name": "stdout",
     "output_type": "stream",
     "text": [
      "The goal 'C' cannot be reached.\n"
     ]
    }
   ],
   "source": [
    "# Define the knowledge base as a dictionary of rules\n",
    "knowledge_base = {\n",
    "    \"rule1\": {\n",
    "        \"if\": [\"A\", \"B\"], \"then\": \"C\"\n",
    "    },\n",
    "    \"rule2\": {\n",
    "        \"if\": [\"D\"], \"then\": \"A\"\n",
    "    },\n",
    "    \"rule3\": {\n",
    "        \"if\": [\"E\"], \"then\": \"B\"\n",
    "    },\n",
    "    \"rule4\": {\n",
    "        \"if\": [\"G\"], \"then\": \"D\"\n",
    "    },\n",
    "    \"rule5\": {\n",
    "        \"if\": [\"G\"], \"then\": \"E\"\n",
    "    }\n",
    "}\n",
    "\n",
    "def backward_chaining(goal, known_facts):\n",
    "    if goal in known_facts:\n",
    "        return True\n",
    "    for rule, value in knowledge_base.items():\n",
    "        if goal in value[\"if\"]:\n",
    "            all_conditions_met = all(condition in known_facts for condition in value[\"if\"])\n",
    "            if all_conditions_met and backward_chaining(value[\"then\"], known_facts):\n",
    "                return True\n",
    "    return False\n",
    "\n",
    "# Define the goal and known facts\n",
    "goal = \"C\"\n",
    "known_facts = [\"G\", \"F\", \"E\"]\n",
    "\n",
    "# Check if the goal can be reached using backward chaining\n",
    "if backward_chaining(goal, known_facts):\n",
    "    print(f\"The goal '{goal}' can be reached.\")\n",
    "else:\n",
    "    print(f\"The goal '{goal}' cannot be reached.\")\n"
   ]
  },
  {
   "cell_type": "code",
   "execution_count": null,
   "id": "edf528cc",
   "metadata": {},
   "outputs": [],
   "source": []
  }
 ],
 "metadata": {
  "kernelspec": {
   "display_name": "Python 3 (ipykernel)",
   "language": "python",
   "name": "python3"
  },
  "language_info": {
   "codemirror_mode": {
    "name": "ipython",
    "version": 3
   },
   "file_extension": ".py",
   "mimetype": "text/x-python",
   "name": "python",
   "nbconvert_exporter": "python",
   "pygments_lexer": "ipython3",
   "version": "3.9.12"
  }
 },
 "nbformat": 4,
 "nbformat_minor": 5
}
