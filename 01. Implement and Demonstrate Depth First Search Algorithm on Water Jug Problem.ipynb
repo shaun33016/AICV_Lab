{
 "cells": [
  {
   "cell_type": "markdown",
   "id": "52224a8b",
   "metadata": {},
   "source": [
    "# 1. Implement and Demonstrate Depth First Search Algorithm on Water Jug Problem"
   ]
  },
  {
   "cell_type": "code",
   "execution_count": 1,
   "id": "88a481f4",
   "metadata": {},
   "outputs": [
    {
     "name": "stdout",
     "output_type": "stream",
     "text": [
      "Solution found: Fill Jug1 \n",
      "Fill Jug2 \n",
      "Empty Jug 1 \n",
      "Pour Jug2 into Jug1 \n",
      "Fill Jug2 \n",
      "Pour Jug2 into Jug1 \n",
      "Fill Jug2 \n",
      "Pour Jug2 into Jug1 \n",
      "Empty Jug 1 \n",
      "Pour Jug2 into Jug1 \n",
      "Fill Jug2 \n",
      "Pour Jug2 into Jug1 \n",
      "\n",
      "Solution found: Fill Jug1 \n",
      "Pour Jug1 into Jug2 \n",
      "\n"
     ]
    }
   ],
   "source": [
    "def water_jug_dfs(jug1_cap, jug2_cap, target_cap):\n",
    "    def dfs(jug1, jug2, path):\n",
    "        if jug1==target_cap or jug2==target_cap:\n",
    "            print(\"Solution found:\", path)\n",
    "            return\n",
    "        # Fill jug1\n",
    "        if jug1<jug1_cap:\n",
    "            new_jug1=jug1_cap\n",
    "            new_jug2=jug2\n",
    "            if(new_jug1, new_jug2) not in visited:\n",
    "                visited.add((new_jug1, new_jug2))\n",
    "                dfs(new_jug1, new_jug2, path + f\"Fill Jug1 \\n\")\n",
    "                \n",
    "        #Fill jug 2\n",
    "        if jug2<jug2_cap:\n",
    "            new_jug1=jug1\n",
    "            new_jug2=jug2_cap\n",
    "            if(new_jug1, new_jug2) not in visited:\n",
    "                visited.add((new_jug1, new_jug2))\n",
    "                dfs(new_jug1, new_jug2, path + f\"Fill Jug2 \\n\")\n",
    "                \n",
    "        # Pour water from jug1 to jug2\n",
    "        if jug1>0 and jug2<jug2_cap:\n",
    "            pour_amt=min(jug1, jug2_cap-jug2)\n",
    "            new_jug1=jug1-pour_amt\n",
    "            new_jug2=jug2+pour_amt\n",
    "            if(new_jug1, new_jug2) not in visited:\n",
    "                visited.add((new_jug1, new_jug2))\n",
    "                dfs(new_jug1, new_jug2, path + f\"Pour Jug1 into Jug2 \\n\")\n",
    "                \n",
    "        # Pour water from jug2 to jug1\n",
    "        if jug2>0 and jug1<jug1_cap:\n",
    "            pour_amt=min(jug2, jug1_cap-jug1)\n",
    "            new_jug1=jug1+pour_amt\n",
    "            new_jug2=jug2-pour_amt\n",
    "            if(new_jug1, new_jug2) not in visited:\n",
    "                visited.add((new_jug1, new_jug2))\n",
    "                dfs(new_jug1, new_jug2, path + f\"Pour Jug2 into Jug1 \\n\")\n",
    "                \n",
    "        # Empty jug1\n",
    "        if jug1>0:\n",
    "            new_jug1=0\n",
    "            new_jug2=jug2\n",
    "            if(new_jug1, new_jug2) not in visited:\n",
    "                visited.add((new_jug1, new_jug2))\n",
    "                dfs(new_jug1, new_jug2, path + f\"Empty Jug 1 \\n\")\n",
    "                \n",
    "        # Empty jug2\n",
    "        if jug2>0:\n",
    "            new_jug1=jug1\n",
    "            new_jug2=0\n",
    "            if(new_jug1, new_jug2) not in visited:\n",
    "                visited.add((new_jug1, new_jug2))\n",
    "                dfs(new_jug1, new_jug2, path + f\"Empty Jug 2 \\n\")\n",
    "                \n",
    "    visited=set()\n",
    "    dfs(0,0,\"\")\n",
    "# Example usage:\n",
    "jug1_cap = 5\n",
    "jug2_cap = 2\n",
    "target_cap = 3\n",
    "water_jug_dfs(jug1_cap, jug2_cap, target_cap)"
   ]
  },
  {
   "cell_type": "code",
   "execution_count": null,
   "id": "83f08c92",
   "metadata": {},
   "outputs": [],
   "source": []
  }
 ],
 "metadata": {
  "kernelspec": {
   "display_name": "Python 3 (ipykernel)",
   "language": "python",
   "name": "python3"
  },
  "language_info": {
   "codemirror_mode": {
    "name": "ipython",
    "version": 3
   },
   "file_extension": ".py",
   "mimetype": "text/x-python",
   "name": "python",
   "nbconvert_exporter": "python",
   "pygments_lexer": "ipython3",
   "version": "3.9.17"
  }
 },
 "nbformat": 4,
 "nbformat_minor": 5
}
